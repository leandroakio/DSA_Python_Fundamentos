{
 "cells": [
  {
   "cell_type": "markdown",
   "metadata": {},
   "source": [
    "##Exercício_criar calculadora com as seguintes opções a serem selecionadas pelo usuário no início do programa 1)Soma 2)Subtração 3)Multiplicação 4)Divisão"
   ]
  },
  {
   "cell_type": "markdown",
   "metadata": {},
   "source": [
    "1) usuário deve escolher a operação de cálculo desejada (1 a 4) e digitar Enter\n",
    "2) digitar o primeiro argumento,Enter, digitar o segundo argumento, Enter\n",
    "3) sistema deve exibir o resultado, juntamente com o primeiro e segundo argumento (arg1 + arg2 = resultado)"
   ]
  },
  {
   "cell_type": "code",
   "execution_count": 3,
   "metadata": {},
   "outputs": [
    {
     "name": "stdout",
     "output_type": "stream",
     "text": [
      "Selecione a operação desejada\n",
      "1)Adição\n",
      "2)Subtração\n",
      "3)Multiplicação\n",
      "4)Divisão\n",
      "digite a operação desejada 5\n",
      "digite o primeiro número 5\n",
      "digite o segundo número 5\n",
      "Operação inválida! Selecione opção de 1 e 4\n"
     ]
    }
   ],
   "source": [
    "opcoes = [\"Selecione a operação desejada\",\"1)Adição\",\"2)Subtração\",\"3)Multiplicação\",\"4)Divisão\"]\n",
    "for str in opcoes:\n",
    "    print (str)\n",
    "operacao = int(input(\"digite a operação desejada \"))\n",
    "arg1 = int(input(\"digite o primeiro número \"))\n",
    "arg2 = int(input(\"digite o segundo número \"))\n",
    "if operacao == 1 :\n",
    "    resultado = arg1 + arg2\n",
    "    print( arg1 ,'+' , arg2 ,'=', resultado)\n",
    "elif operacao == 2 :\n",
    "    resultado = arg1 - arg2\n",
    "    print( arg1 ,'-' , arg2 ,'=', resultado)\n",
    "elif operacao == 3 :\n",
    "    resultado = arg1 * arg2\n",
    "    print( arg1 ,'x' , arg2 ,'=', resultado)\n",
    "elif operacao ==4 :\n",
    "    resultado = arg1 / arg2\n",
    "    print( arg1 ,'/' , arg2 ,'=', resultado)\n",
    "else:\n",
    "    print('Operação inválida! Selecione opção entre 1 e 4')"
   ]
  },
  {
   "cell_type": "code",
   "execution_count": null,
   "metadata": {},
   "outputs": [],
   "source": []
  }
 ],
 "metadata": {
  "kernelspec": {
   "display_name": "Python 3",
   "language": "python",
   "name": "python3"
  },
  "language_info": {
   "codemirror_mode": {
    "name": "ipython",
    "version": 3
   },
   "file_extension": ".py",
   "mimetype": "text/x-python",
   "name": "python",
   "nbconvert_exporter": "python",
   "pygments_lexer": "ipython3",
   "version": "3.8.5"
  }
 },
 "nbformat": 4,
 "nbformat_minor": 4
}
